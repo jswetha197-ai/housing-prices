{
  "nbformat": 4,
  "nbformat_minor": 0,
  "metadata": {
    "colab": {
      "provenance": []
    },
    "kernelspec": {
      "name": "python3",
      "display_name": "Python 3"
    },
    "language_info": {
      "name": "python"
    }
  },
  "cells": [
    {
      "cell_type": "code",
      "execution_count": null,
      "metadata": {
        "id": "7hXU90p2f1ss"
      },
      "outputs": [],
      "source": [
        "!unzip /content/housing.csv.zip\n"
      ]
    },
    {
      "cell_type": "code",
      "source": [
        "import pandas as pd\n",
        "# Load the dataset\n",
        "df = pd.read_csv('/content/housing.csv')\n",
        "\n",
        "# Display the first few rows\n",
        "df.head()\n"
      ],
      "metadata": {
        "id": "5I-D-S2XiqoG"
      },
      "execution_count": null,
      "outputs": []
    },
    {
      "cell_type": "code",
      "source": [
        "# Check for duplicates\n",
        "duplicates = df.duplicated().sum()\n",
        "print(f\"Number of duplicate rows: {duplicates}\")\n",
        "\n",
        "# Remove duplicates if any\n",
        "if duplicates > 0:\n",
        "    df = df.drop_duplicates()\n",
        "\n"
      ],
      "metadata": {
        "id": "3X7Elrp5jXcF"
      },
      "execution_count": null,
      "outputs": []
    },
    {
      "cell_type": "code",
      "source": [
        "# Check for missing values\n",
        "missing_values = df.isnull().sum()\n",
        "print(\"Missing values in each column:\")\n",
        "print(missing_values)\n",
        "\n",
        "# Fill missing values with the median (for numerical columns)\n",
        "df['total_bedrooms'] = df['total_bedrooms'].fillna(df['total_bedrooms'].median())\n",
        "\n"
      ],
      "metadata": {
        "id": "wj6H8SRLjafT"
      },
      "execution_count": null,
      "outputs": []
    },
    {
      "cell_type": "code",
      "source": [
        "# Check for missing values again\n",
        "print(df.isnull().sum())\n"
      ],
      "metadata": {
        "id": "zeDEUKpvkXbt"
      },
      "execution_count": null,
      "outputs": []
    },
    {
      "cell_type": "code",
      "source": [
        "import matplotlib.pyplot as plt\n",
        "import seaborn as sns\n",
        "\n",
        "# List of numerical columns\n",
        "numerical_columns = df.select_dtypes(include=['float64', 'int64']).columns\n",
        "\n",
        "# Create boxplots for each numerical column\n",
        "for column in numerical_columns:\n",
        "    plt.figure(figsize=(10, 4))\n",
        "    sns.boxplot(x=df[column])\n",
        "    plt.title(f'Boxplot of {column}')\n",
        "    plt.show()\n"
      ],
      "metadata": {
        "id": "_7g2zSpUlADh"
      },
      "execution_count": null,
      "outputs": []
    },
    {
      "cell_type": "code",
      "source": [
        "# Histogram for 'median_income'\n",
        "plt.figure(figsize=(8,6))\n",
        "sns.histplot(df['median_income'], bins=30, kde=True)\n",
        "plt.title('Histogram of Median Income')\n",
        "plt.xlabel('Median Income')\n",
        "plt.ylabel('Frequency')\n",
        "plt.show()\n"
      ],
      "metadata": {
        "id": "r3HGo18pmF-d"
      },
      "execution_count": null,
      "outputs": []
    },
    {
      "cell_type": "code",
      "source": [
        "from sklearn.preprocessing import StandardScaler\n",
        "\n",
        "# Initialize the StandardScaler\n",
        "scaler = StandardScaler()\n",
        "\n",
        "# List of numerical columns to scale\n",
        "numerical_columns = df.select_dtypes(include=['float64', 'int64']).columns\n",
        "\n",
        "# Scale the numerical columns\n",
        "df[numerical_columns] = scaler.fit_transform(df[numerical_columns])\n",
        "\n",
        "# Display the first few rows to confirm\n",
        "df.head()\n",
        "\n"
      ],
      "metadata": {
        "id": "3XvWVGL1nSgs"
      },
      "execution_count": null,
      "outputs": []
    },
    {
      "cell_type": "code",
      "source": [
        "import pandas as pd\n",
        "\n",
        "# Assuming 'ocean_proximity' is a categorical column\n",
        "# Apply one-hot encoding\n",
        "df_encoded = pd.get_dummies(df, columns=['ocean_proximity'])\n",
        "\n",
        "# Display the first few rows of the encoded DataFrame\n",
        "df_encoded.head()\n",
        "# Display column names\n",
        "print(df.columns)"
      ],
      "metadata": {
        "id": "2uIJyRcUovHf"
      },
      "execution_count": null,
      "outputs": []
    },
    {
      "cell_type": "code",
      "source": [
        "import matplotlib.pyplot as plt\n",
        "import seaborn as sns\n",
        "\n",
        "# Histogram for a numerical column, e.g., 'median_house_value'\n",
        "plt.figure(figsize=(10, 6))\n",
        "sns.histplot(df_encoded['median_house_value'], kde=True)\n",
        "plt.title('Distribution of Median House Value')\n",
        "plt.xlabel('Median House Value')\n",
        "plt.ylabel('Frequency')\n",
        "plt.show()\n"
      ],
      "metadata": {
        "id": "xngt3s2erJ-c"
      },
      "execution_count": null,
      "outputs": []
    },
    {
      "cell_type": "code",
      "source": [
        "# Bar plot for the categorical column 'ocean_proximity'\n",
        "plt.figure(figsize=(10, 6))\n",
        "sns.countplot(y='ocean_proximity', data=df, order=df['ocean_proximity'].value_counts().index)\n",
        "plt.title('Frequency of Ocean Proximity Categories')\n",
        "plt.xlabel('Count')\n",
        "plt.ylabel('Ocean Proximity')\n",
        "plt.show()"
      ],
      "metadata": {
        "id": "nYkkyZJBrRKr"
      },
      "execution_count": null,
      "outputs": []
    },
    {
      "cell_type": "code",
      "source": [
        "import matplotlib.pyplot as plt\n",
        "import seaborn as sns\n",
        "\n",
        "# Scatter plot between 'median_income' and 'median_house_value'\n",
        "plt.figure(figsize=(10, 6))\n",
        "sns.scatterplot(x='median_income', y='median_house_value', data=df_encoded)\n",
        "plt.title('Median Income vs. Median House Value')\n",
        "plt.xlabel('Median Income')\n",
        "plt.ylabel('Median House Value')\n",
        "plt.show()\n"
      ],
      "metadata": {
        "id": "iz4TuDtushDM"
      },
      "execution_count": null,
      "outputs": []
    },
    {
      "cell_type": "code",
      "source": [
        "# Box plot for 'median_house_value' by 'ocean_proximity'\n",
        "plt.figure(figsize=(12, 6))\n",
        "sns.boxplot(x='ocean_proximity', y='median_house_value', data=df)\n",
        "plt.title('Median House Value by Ocean Proximity')\n",
        "plt.xlabel('Ocean Proximity')\n",
        "plt.ylabel('Median House Value')\n",
        "plt.show()"
      ],
      "metadata": {
        "id": "WhVM3DP4sjzd"
      },
      "execution_count": null,
      "outputs": []
    }
  ]
}